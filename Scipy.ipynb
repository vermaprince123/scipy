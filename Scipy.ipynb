{
 "cells": [
  {
   "cell_type": "code",
   "execution_count": 1,
   "id": "f0fa0154",
   "metadata": {},
   "outputs": [],
   "source": [
    "from numpy import poly1d"
   ]
  },
  {
   "cell_type": "code",
   "execution_count": 2,
   "id": "027d2f80",
   "metadata": {},
   "outputs": [
    {
     "name": "stdout",
     "output_type": "stream",
     "text": [
      "   2\n",
      "3 x + 6 x + 8\n"
     ]
    }
   ],
   "source": [
    "p = poly1d([3,6,8])\n",
    "print(p)"
   ]
  },
  {
   "cell_type": "code",
   "execution_count": 3,
   "id": "3dafc98b",
   "metadata": {},
   "outputs": [
    {
     "name": "stdout",
     "output_type": "stream",
     "text": [
      "   4      3      2\n",
      "9 x + 36 x + 84 x + 96 x + 64\n"
     ]
    }
   ],
   "source": [
    "print(p*p)"
   ]
  },
  {
   "cell_type": "code",
   "execution_count": 4,
   "id": "26af2db5",
   "metadata": {},
   "outputs": [
    {
     "data": {
      "text/plain": [
       "array([-1.+1.29099445j, -1.-1.29099445j])"
      ]
     },
     "execution_count": 4,
     "metadata": {},
     "output_type": "execute_result"
    }
   ],
   "source": [
    "p.r"
   ]
  },
  {
   "cell_type": "code",
   "execution_count": 5,
   "id": "5c7a9d6f",
   "metadata": {},
   "outputs": [
    {
     "data": {
      "text/plain": [
       "poly1d([3, 6, 8])"
      ]
     },
     "execution_count": 5,
     "metadata": {},
     "output_type": "execute_result"
    }
   ],
   "source": [
    "p"
   ]
  },
  {
   "cell_type": "code",
   "execution_count": 6,
   "id": "5a6d77de",
   "metadata": {},
   "outputs": [
    {
     "name": "stdout",
     "output_type": "stream",
     "text": [
      "   2\n",
      "1 q + 2 q + 3\n"
     ]
    }
   ],
   "source": [
    "p1 = poly1d([1,2,3], variable = 'q')\n",
    "print(p1)"
   ]
  },
  {
   "cell_type": "code",
   "execution_count": 11,
   "id": "4014abe6",
   "metadata": {},
   "outputs": [
    {
     "name": "stdout",
     "output_type": "stream",
     "text": [
      "   3     2\n",
      "1 x + 3 x + 8 x + 6\n"
     ]
    }
   ],
   "source": [
    "print(p.integ(k=6))"
   ]
  },
  {
   "cell_type": "code",
   "execution_count": 12,
   "id": "cf3361e8",
   "metadata": {},
   "outputs": [
    {
     "name": "stdout",
     "output_type": "stream",
     "text": [
      " \n",
      "6 x + 6\n"
     ]
    }
   ],
   "source": [
    "print(p.deriv())"
   ]
  },
  {
   "cell_type": "code",
   "execution_count": 16,
   "id": "950cda48",
   "metadata": {},
   "outputs": [],
   "source": [
    "import scipy.special as ss\n",
    "import numpy as np"
   ]
  },
  {
   "cell_type": "code",
   "execution_count": 14,
   "id": "8752d177",
   "metadata": {},
   "outputs": [],
   "source": [
    "a = np.arange(1,12)"
   ]
  },
  {
   "cell_type": "code",
   "execution_count": 15,
   "id": "61936a83",
   "metadata": {},
   "outputs": [
    {
     "data": {
      "text/plain": [
       "array([ 1,  2,  3,  4,  5,  6,  7,  8,  9, 10, 11])"
      ]
     },
     "execution_count": 15,
     "metadata": {},
     "output_type": "execute_result"
    }
   ],
   "source": [
    "a"
   ]
  },
  {
   "cell_type": "code",
   "execution_count": 17,
   "id": "2bb2a146",
   "metadata": {},
   "outputs": [
    {
     "data": {
      "text/plain": [
       "array([1.        , 1.25992105, 1.44224957, 1.58740105, 1.70997595,\n",
       "       1.81712059, 1.91293118, 2.        , 2.08008382, 2.15443469,\n",
       "       2.22398009])"
      ]
     },
     "execution_count": 17,
     "metadata": {},
     "output_type": "execute_result"
    }
   ],
   "source": [
    "ss.cbrt(a)"
   ]
  },
  {
   "cell_type": "code",
   "execution_count": 18,
   "id": "b85aca86",
   "metadata": {},
   "outputs": [
    {
     "data": {
      "text/plain": [
       "16.0"
      ]
     },
     "execution_count": 18,
     "metadata": {},
     "output_type": "execute_result"
    }
   ],
   "source": [
    "x=4\n",
    "ss.exp2(x)"
   ]
  },
  {
   "cell_type": "code",
   "execution_count": 19,
   "id": "c15dd4ce",
   "metadata": {},
   "outputs": [
    {
     "data": {
      "text/plain": [
       "100000.0"
      ]
     },
     "execution_count": 19,
     "metadata": {},
     "output_type": "execute_result"
    }
   ],
   "source": [
    "ss.exp10(5)"
   ]
  },
  {
   "cell_type": "code",
   "execution_count": 21,
   "id": "ef1fc9ca",
   "metadata": {},
   "outputs": [
    {
     "data": {
      "text/plain": [
       "0.529707427980279"
      ]
     },
     "execution_count": 21,
     "metadata": {},
     "output_type": "execute_result"
    }
   ],
   "source": [
    "d= 30\n",
    "m = 20 \n",
    "s =60\n",
    "ss.radian(d,m,s)"
   ]
  },
  {
   "cell_type": "code",
   "execution_count": 24,
   "id": "00f7f825",
   "metadata": {},
   "outputs": [
    {
     "data": {
      "text/plain": [
       "0.49999999999999994"
      ]
     },
     "execution_count": 24,
     "metadata": {},
     "output_type": "execute_result"
    }
   ],
   "source": [
    "ss.sindg(30)\n"
   ]
  },
  {
   "cell_type": "code",
   "execution_count": 25,
   "id": "345427c7",
   "metadata": {},
   "outputs": [
    {
     "data": {
      "text/plain": [
       "1.0"
      ]
     },
     "execution_count": 25,
     "metadata": {},
     "output_type": "execute_result"
    }
   ],
   "source": [
    "ss.tandg(45)"
   ]
  },
  {
   "cell_type": "code",
   "execution_count": 26,
   "id": "ad38f264",
   "metadata": {},
   "outputs": [
    {
     "data": {
      "text/plain": [
       "10.0"
      ]
     },
     "execution_count": 26,
     "metadata": {},
     "output_type": "execute_result"
    }
   ],
   "source": [
    "ss.comb(5,3)"
   ]
  },
  {
   "cell_type": "code",
   "execution_count": 27,
   "id": "89b47026",
   "metadata": {},
   "outputs": [
    {
     "data": {
      "text/plain": [
       "60.0"
      ]
     },
     "execution_count": 27,
     "metadata": {},
     "output_type": "execute_result"
    }
   ],
   "source": [
    "ss.perm(5,3)"
   ]
  },
  {
   "cell_type": "code",
   "execution_count": 29,
   "id": "c0e28e3a",
   "metadata": {},
   "outputs": [],
   "source": [
    "import scipy.integrate as scin"
   ]
  },
  {
   "cell_type": "code",
   "execution_count": 31,
   "id": "23e3d69b",
   "metadata": {},
   "outputs": [
    {
     "data": {
      "text/plain": [
       "16"
      ]
     },
     "execution_count": 31,
     "metadata": {},
     "output_type": "execute_result"
    }
   ],
   "source": [
    "def f(x):\n",
    "    return x**2\n",
    "f(4)"
   ]
  },
  {
   "cell_type": "code",
   "execution_count": 32,
   "id": "983aeddb",
   "metadata": {},
   "outputs": [
    {
     "data": {
      "text/plain": [
       "9"
      ]
     },
     "execution_count": 32,
     "metadata": {},
     "output_type": "execute_result"
    }
   ],
   "source": [
    "f = lambda x,y : x+y\n",
    "f(3,6)"
   ]
  },
  {
   "cell_type": "code",
   "execution_count": 33,
   "id": "27b88a71",
   "metadata": {},
   "outputs": [
    {
     "data": {
      "text/plain": [
       "(3.5, 3.885780586188048e-14)"
      ]
     },
     "execution_count": 33,
     "metadata": {},
     "output_type": "execute_result"
    }
   ],
   "source": [
    "f = lambda x: x+2\n",
    "t = scin.quad(f, 1, 2)\n",
    "t"
   ]
  },
  {
   "cell_type": "code",
   "execution_count": 34,
   "id": "9fd18b08",
   "metadata": {},
   "outputs": [],
   "source": [
    "from numpy import exp"
   ]
  },
  {
   "cell_type": "code",
   "execution_count": 35,
   "id": "9f54a50b",
   "metadata": {},
   "outputs": [
    {
     "data": {
      "text/plain": [
       "(0.1393832154470942, 1.5474645503565277e-15)"
      ]
     },
     "execution_count": 35,
     "metadata": {},
     "output_type": "execute_result"
    }
   ],
   "source": [
    "f = lambda x: exp(-x**2)\n",
    "r = scin.quad(f, 1, 3)\n",
    "r"
   ]
  },
  {
   "cell_type": "code",
   "execution_count": 36,
   "id": "3a7cfbba",
   "metadata": {},
   "outputs": [],
   "source": [
    "q = scin.dblquad(lambda x , y : x+y, 1,2, lambda x:0, lambda y:1+2*y)"
   ]
  },
  {
   "cell_type": "code",
   "execution_count": 37,
   "id": "cf3fd2dc",
   "metadata": {},
   "outputs": [
    {
     "data": {
      "text/plain": [
       "(14.33333333333333, 2.4934234575921986e-13)"
      ]
     },
     "execution_count": 37,
     "metadata": {},
     "output_type": "execute_result"
    }
   ],
   "source": [
    "q"
   ]
  },
  {
   "cell_type": "code",
   "execution_count": 38,
   "id": "3b98b2d4",
   "metadata": {},
   "outputs": [],
   "source": [
    "from scipy import linalg \n"
   ]
  },
  {
   "cell_type": "code",
   "execution_count": 40,
   "id": "e569c23d",
   "metadata": {},
   "outputs": [
    {
     "data": {
      "text/plain": [
       "array([[1, 2],\n",
       "       [3, 4]])"
      ]
     },
     "execution_count": 40,
     "metadata": {},
     "output_type": "execute_result"
    }
   ],
   "source": [
    "a1 = np.array([[1,2], [3,4]])\n",
    "a1"
   ]
  },
  {
   "cell_type": "code",
   "execution_count": 41,
   "id": "1060ce09",
   "metadata": {},
   "outputs": [
    {
     "data": {
      "text/plain": [
       "-2.0"
      ]
     },
     "execution_count": 41,
     "metadata": {},
     "output_type": "execute_result"
    }
   ],
   "source": [
    "linalg.det(a1)"
   ]
  },
  {
   "cell_type": "code",
   "execution_count": null,
   "id": "30d4d214",
   "metadata": {},
   "outputs": [],
   "source": []
  }
 ],
 "metadata": {
  "kernelspec": {
   "display_name": "Python 3",
   "language": "python",
   "name": "python3"
  },
  "language_info": {
   "codemirror_mode": {
    "name": "ipython",
    "version": 3
   },
   "file_extension": ".py",
   "mimetype": "text/x-python",
   "name": "python",
   "nbconvert_exporter": "python",
   "pygments_lexer": "ipython3",
   "version": "3.8.8"
  }
 },
 "nbformat": 4,
 "nbformat_minor": 5
}
